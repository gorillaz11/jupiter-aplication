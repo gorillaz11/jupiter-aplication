{
 "cells": [
  {
   "cell_type": "code",
   "execution_count": 1,
   "metadata": {},
   "outputs": [],
   "source": [
    "def createBarCode(number):\n",
    "    number_string=f\"{number}\"\n",
    "    number_encoded=\"\"\n",
    "    bar_code=\"\"\n",
    "    \n",
    "    for i in range(len(number_string)):\n",
    "        digit= int(number_string[i])\n",
    "\n",
    "        digit_encoded= f\"{digit:04b}\"\n",
    "        \n",
    "        number_encoded+= digit_encoded\n",
    "        \n",
    "    for i in range(len(number_string)):\n",
    "        digit=number_encoded[i]\n",
    "        if digit== \"1\":\n",
    "            bar_code+=\"#\"\n",
    "        \n",
    "        elif digit== \"0\":\n",
    "            bar_code+= \" \"\n",
    "\n",
    "        bar_code=(bar_code + \"\\n\") * 10 \n",
    "\n",
    "        return bar_code"
   ]
  },
  {
   "cell_type": "code",
   "execution_count": 2,
   "metadata": {},
   "outputs": [],
   "source": [
    "def scanBarCode(code):\n",
    "    number=0\n",
    "    number_encoded=\"\"\n",
    "    number_string=\"\"\n",
    "    code_simplified=code[:36]\n",
    "    for i in range(len(code_simplified)):\n",
    "        symbol=code_simplified[i]\n",
    "        if symbol ==\"#\":\n",
    "            number_encoded+=\"1\"\n",
    "        \n",
    "        elif symbol== \" \":\n",
    "            number_encoded +=\"0\"\n",
    "    \n",
    "    for i in range(9):\n",
    "        digit_bits= number_encoded[i*4:(i+1)*4]\n",
    "        digit = int(digit_bits, 2)\n",
    "        number_string +=f\"{digit:d}\"\n",
    "\n",
    "    number = int(number_string)\n",
    "\n",
    "\n",
    "    return number\n"
   ]
  },
  {
   "cell_type": "code",
   "execution_count": 3,
   "metadata": {},
   "outputs": [
    {
     "name": "stdout",
     "output_type": "stream",
     "text": [
      " \n",
      " \n",
      " \n",
      " \n",
      " \n",
      " \n",
      " \n",
      " \n",
      " \n",
      " \n",
      "\n",
      "\n"
     ]
    },
    {
     "ename": "ValueError",
     "evalue": "invalid literal for int() with base 2: ''",
     "output_type": "error",
     "traceback": [
      "\u001b[1;31m---------------------------------------------------------------------------\u001b[0m",
      "\u001b[1;31mValueError\u001b[0m                                Traceback (most recent call last)",
      "\u001b[1;32mc:\\Users\\Boss\\Desktop\\python projects\\custom-barcode.ipynb Cell 3'\u001b[0m in \u001b[0;36m<cell line: 4>\u001b[1;34m()\u001b[0m\n\u001b[0;32m      <a href='vscode-notebook-cell:/c%3A/Users/Boss/Desktop/python%20projects/custom-barcode.ipynb#ch0000002?line=1'>2</a>\u001b[0m \u001b[39mprint\u001b[39m(b_code)\n\u001b[0;32m      <a href='vscode-notebook-cell:/c%3A/Users/Boss/Desktop/python%20projects/custom-barcode.ipynb#ch0000002?line=2'>3</a>\u001b[0m \u001b[39mprint\u001b[39m()\n\u001b[1;32m----> <a href='vscode-notebook-cell:/c%3A/Users/Boss/Desktop/python%20projects/custom-barcode.ipynb#ch0000002?line=3'>4</a>\u001b[0m number \u001b[39m=\u001b[39m scanBarCode(b_code)\n\u001b[0;32m      <a href='vscode-notebook-cell:/c%3A/Users/Boss/Desktop/python%20projects/custom-barcode.ipynb#ch0000002?line=4'>5</a>\u001b[0m \u001b[39mprint\u001b[39m(number)\n",
      "\u001b[1;32mc:\\Users\\Boss\\Desktop\\python projects\\custom-barcode.ipynb Cell 2'\u001b[0m in \u001b[0;36mscanBarCode\u001b[1;34m(code)\u001b[0m\n\u001b[0;32m     <a href='vscode-notebook-cell:/c%3A/Users/Boss/Desktop/python%20projects/custom-barcode.ipynb#ch0000001?line=13'>14</a>\u001b[0m \u001b[39mfor\u001b[39;00m i \u001b[39min\u001b[39;00m \u001b[39mrange\u001b[39m(\u001b[39m9\u001b[39m):\n\u001b[0;32m     <a href='vscode-notebook-cell:/c%3A/Users/Boss/Desktop/python%20projects/custom-barcode.ipynb#ch0000001?line=14'>15</a>\u001b[0m     digit_bits\u001b[39m=\u001b[39m number_encoded[i\u001b[39m*\u001b[39m\u001b[39m4\u001b[39m:(i\u001b[39m+\u001b[39m\u001b[39m1\u001b[39m)\u001b[39m*\u001b[39m\u001b[39m4\u001b[39m]\n\u001b[1;32m---> <a href='vscode-notebook-cell:/c%3A/Users/Boss/Desktop/python%20projects/custom-barcode.ipynb#ch0000001?line=15'>16</a>\u001b[0m     digit \u001b[39m=\u001b[39m \u001b[39mint\u001b[39;49m(digit_bits, \u001b[39m2\u001b[39;49m)\n\u001b[0;32m     <a href='vscode-notebook-cell:/c%3A/Users/Boss/Desktop/python%20projects/custom-barcode.ipynb#ch0000001?line=16'>17</a>\u001b[0m     number_string \u001b[39m+\u001b[39m\u001b[39m=\u001b[39m\u001b[39mf\u001b[39m\u001b[39m\"\u001b[39m\u001b[39m{\u001b[39;00mdigit\u001b[39m:\u001b[39;00m\u001b[39md\u001b[39m\u001b[39m}\u001b[39;00m\u001b[39m\"\u001b[39m\n\u001b[0;32m     <a href='vscode-notebook-cell:/c%3A/Users/Boss/Desktop/python%20projects/custom-barcode.ipynb#ch0000001?line=18'>19</a>\u001b[0m number \u001b[39m=\u001b[39m \u001b[39mint\u001b[39m(number_string)\n",
      "\u001b[1;31mValueError\u001b[0m: invalid literal for int() with base 2: ''"
     ]
    }
   ],
   "source": [
    "b_code = createBarCode(123456789)\n",
    "print(b_code)\n",
    "print()\n",
    "number = scanBarCode(b_code)\n",
    "print(number)"
   ]
  },
  {
   "cell_type": "markdown",
   "metadata": {},
   "source": []
  }
 ],
 "metadata": {
  "interpreter": {
   "hash": "0725d3ca92750804b2ea1e23098fa6d0f8445b121df0c37c577fb1db43528f87"
  },
  "kernelspec": {
   "display_name": "Python 3.10.4 64-bit (windows store)",
   "language": "python",
   "name": "python3"
  },
  "language_info": {
   "codemirror_mode": {
    "name": "ipython",
    "version": 3
   },
   "file_extension": ".py",
   "mimetype": "text/x-python",
   "name": "python",
   "nbconvert_exporter": "python",
   "pygments_lexer": "ipython3",
   "version": "3.10.4"
  },
  "orig_nbformat": 4
 },
 "nbformat": 4,
 "nbformat_minor": 2
}
